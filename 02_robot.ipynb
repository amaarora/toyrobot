{
 "cells": [
  {
   "cell_type": "code",
   "execution_count": 1,
   "metadata": {},
   "outputs": [],
   "source": [
    "# default_exp robot"
   ]
  },
  {
   "cell_type": "markdown",
   "metadata": {},
   "source": [
    "# Robot"
   ]
  },
  {
   "cell_type": "code",
   "execution_count": 2,
   "metadata": {},
   "outputs": [],
   "source": [
    "#hide\n",
    "from nbdev.showdoc import *"
   ]
  },
  {
   "cell_type": "code",
   "execution_count": 3,
   "metadata": {},
   "outputs": [],
   "source": [
    "#export\n",
    "from toyrobot.direction import Direction\n",
    "import numpy as np\n",
    "from numpy import sin, cos, pi"
   ]
  },
  {
   "cell_type": "code",
   "execution_count": 4,
   "metadata": {},
   "outputs": [],
   "source": [
    "#export\n",
    "class ToyRobot:\n",
    "    def __init__(self, x, y, idx=None, th=5, tw=5):\n",
    "        self.f = Direction(idx=idx)\n",
    "        self.x = x\n",
    "        self.y = y\n",
    "        self.table = Table(th, tw)\n",
    "    \n",
    "    def __repr__(self):\n",
    "        return f\"{self.__class__.__name__}, currently at ({self.x}, {self.y}) and facing {self.f}!\" \n",
    "    \n",
    "    def report(self): print(self)\n",
    "    \n",
    "    def left(self): \n",
    "        self.f = self.f.left()\n",
    "        print(f\"{self.__class__.__name__} facing new direction: {self.f}\")\n",
    "        \n",
    "    def right(self):\n",
    "        self.f = self.f.right()\n",
    "        print(f\"{self.__class__.__name__} facing new direction: {self.f}\")\n",
    "    \n",
    "    def move(self):\n",
    "        idx = self.f.get_idx()\n",
    "        self.x = self.x + (sin(idx*(pi/2)).astype(int))\n",
    "        self.y = self.y + (cos(idx*(pi/2)).astype(int))\n",
    "        print(f\"New position on table: {self.x, self.y}\")\n",
    "    \n",
    "    @classmethod\n",
    "    def from_placement(cls, x, y, idx):\n",
    "        return cls(x, y, idx=idx)"
   ]
  },
  {
   "cell_type": "code",
   "execution_count": 5,
   "metadata": {},
   "outputs": [],
   "source": [
    "#export\n",
    "class Table:\n",
    "    def __init__(self, h, w):\n",
    "        self.h = h\n",
    "        self.w = w\n",
    "    \n",
    "    def __contains__(self, robot: ToyRobot):\n",
    "        return min(self.h, self.w) >= max(robot.x, robot.y)"
   ]
  },
  {
   "cell_type": "code",
   "execution_count": 6,
   "metadata": {},
   "outputs": [
    {
     "name": "stdout",
     "output_type": "stream",
     "text": [
      "New position on table: (2, 3)\n",
      "ToyRobot facing new direction: EAST\n",
      "New position on table: (3, 3)\n"
     ]
    }
   ],
   "source": [
    "#hide\n",
    "# instantiate robot on (2,2) facing `North`\n",
    "r1 = ToyRobot(2,2, 0)\n",
    "assert isinstance(r1.f, Direction)\n",
    "assert r1.x == 2\n",
    "assert r1.y == 2\n",
    "assert r1.f.get_idx() == 0\n",
    "\n",
    "r1.move()\n",
    "assert r1.x == 2\n",
    "assert r1.y == 3\n",
    "\n",
    "r1.right()\n",
    "r1.move()\n",
    "assert r1.x == 3\n",
    "assert r1.y == 3"
   ]
  },
  {
   "cell_type": "code",
   "execution_count": 7,
   "metadata": {},
   "outputs": [],
   "source": [
    "#hide\n",
    "r2 = ToyRobot.from_placement(1, 1, 0)\n",
    "assert isinstance(r2, ToyRobot)\n",
    "assert r2.f.get_idx()==0\n",
    "assert r2.x == 1\n",
    "assert r2.y == 1"
   ]
  },
  {
   "cell_type": "code",
   "execution_count": 8,
   "metadata": {},
   "outputs": [],
   "source": [
    "#hide \n",
    "assert ToyRobot.from_placement(1, 1, 0) in Table(5, 5)\n",
    "assert ToyRobot.from_placement(2, 3, 0) in Table(5, 5)\n",
    "assert ToyRobot.from_placement(5, 5, 0) in Table(5, 5)\n",
    "assert not ToyRobot.from_placement(5, 6, 0) in Table(5, 5)\n",
    "assert not ToyRobot.from_placement(6, 5, 0) in Table(5, 5)"
   ]
  },
  {
   "cell_type": "code",
   "execution_count": 9,
   "metadata": {},
   "outputs": [
    {
     "name": "stdout",
     "output_type": "stream",
     "text": [
      "Converted 00_core.ipynb.\n",
      "Converted 01_direction.ipynb.\n",
      "Converted 02_robot.ipynb.\n",
      "Converted 03_main.ipynb.\n",
      "Converted index.ipynb.\n"
     ]
    }
   ],
   "source": [
    "from nbdev.export import * \n",
    "notebook2script()"
   ]
  }
 ],
 "metadata": {
  "kernelspec": {
   "display_name": "Python 3",
   "language": "python",
   "name": "python3"
  },
  "language_info": {
   "codemirror_mode": {
    "name": "ipython",
    "version": 3
   },
   "file_extension": ".py",
   "mimetype": "text/x-python",
   "name": "python",
   "nbconvert_exporter": "python",
   "pygments_lexer": "ipython3",
   "version": "3.6.9"
  },
  "toc": {
   "base_numbering": 1,
   "nav_menu": {},
   "number_sections": true,
   "sideBar": true,
   "skip_h1_title": false,
   "title_cell": "Table of Contents",
   "title_sidebar": "Contents",
   "toc_cell": false,
   "toc_position": {},
   "toc_section_display": true,
   "toc_window_display": false
  }
 },
 "nbformat": 4,
 "nbformat_minor": 2
}
