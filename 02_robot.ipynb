{
 "cells": [
  {
   "cell_type": "code",
   "execution_count": null,
   "metadata": {},
   "outputs": [],
   "source": [
    "# default_exp robot"
   ]
  },
  {
   "cell_type": "markdown",
   "metadata": {},
   "source": [
    "# ToyRobot and Table\n",
    "> Here we define the `ToyRobot` and `Table` class."
   ]
  },
  {
   "cell_type": "code",
   "execution_count": null,
   "metadata": {},
   "outputs": [],
   "source": [
    "#hide\n",
    "from nbdev.showdoc import *"
   ]
  },
  {
   "cell_type": "code",
   "execution_count": null,
   "metadata": {},
   "outputs": [],
   "source": [
    "#export\n",
    "from toyrobot.direction import Direction\n",
    "import numpy as np\n",
    "from numpy import sin, cos, pi"
   ]
  },
  {
   "cell_type": "markdown",
   "metadata": {},
   "source": [
    "## ToyRobot"
   ]
  },
  {
   "cell_type": "markdown",
   "metadata": {},
   "source": [
    "The `ToyRobot` class is the robot the does the moving. This class contains the main methods `left`, `right`, `move`, `report` and a [classmethod](https://docs.python.org/3/library/functions.html#classmethod) `from_placement` which can be used to instantiate the robot without calling `__init__`. "
   ]
  },
  {
   "cell_type": "markdown",
   "metadata": {},
   "source": [
    "The sense of direction inside the ToyRobot comes from the `Direction` class itself. If we want the robot to move left, we simply update it's facing direction or `self.f` by calling `self.f.left()`. \n",
    "\n",
    "Because `self.f` is an instance of `Direction`, the actual turning of left and right is already taken care of. "
   ]
  },
  {
   "cell_type": "markdown",
   "metadata": {},
   "source": [
    "The robot does the moving based on the direction it is current in: \n",
    "\n",
    "- To move the robot North, it updates it's `y` by `y+1` and keeps `x` as same.\n",
    "- To move the robot West, it updates it's `x` by `x-1` and keeps `y` as same. \n",
    "- To move the robot East, it updates it's `x` by `x+1` and keeps `y` as same. \n",
    "-  To move the robot South, it updates it's `y` by `y-1` and keeps `x` as same. \n",
    "\n",
    "The internal working of movement is taken care of by using the `sin` and `cos` math functions inspired from [here](https://github.com/lokulin/toy-robot-python/blob/master/toyrobot/robot.py#L18)."
   ]
  },
  {
   "cell_type": "code",
   "execution_count": null,
   "metadata": {},
   "outputs": [],
   "source": [
    "#export\n",
    "class ToyRobot:\n",
    "    \"The actual ToyRobot class the does the moving.\"\n",
    "    def __init__(self, x, y, idx=None, th=5, tw=5, verbose=False):\n",
    "        self.f = Direction(idx=idx)\n",
    "        self.x = x\n",
    "        self.y = y\n",
    "        self.table = Table(th, tw)\n",
    "        self.verbose = verbose\n",
    "        \n",
    "    def report(self): \n",
    "        \"report the current (X,Y) coordinates and direction.\"\n",
    "        print(f\"{self.x},{self.y},{self.f}\")\n",
    "    \n",
    "    def left(self): \n",
    "        \"update direction anticlockwise.\"\n",
    "        self.f = self.f.left()\n",
    "        if self.verbose: self.report()\n",
    "        \n",
    "    def right(self):\n",
    "        \"update direction clockwise.\"\n",
    "        self.f = self.f.right()\n",
    "        if self.verbose: self.report()\n",
    "    \n",
    "    def move(self):\n",
    "        \"\"\"        \n",
    "        get curent direction, take a step in the direction and only update the X and Y coords \n",
    "        if the new position is inside the table.\n",
    "        \"\"\"\n",
    "        idx = self.f.get_idx()\n",
    "        new_x = self.x + (sin(idx*(pi/2)).astype(int))\n",
    "        new_y = self.y + (cos(idx*(pi/2)).astype(int))\n",
    "        if (new_x, new_y) in self.table:\n",
    "            self.x = new_x\n",
    "            self.y = new_y\n",
    "        if self.verbose: self.report()\n",
    "    \n",
    "    @classmethod\n",
    "    def from_placement(cls, x, y, idx, verbose=False):\n",
    "        \"place a robot if it's inside the table and ignore otherwise\"\n",
    "        if max(x,y)<=5: \n",
    "            return cls(x, y, idx=idx, verbose=verbose)"
   ]
  },
  {
   "cell_type": "markdown",
   "metadata": {},
   "source": [
    "## Table"
   ]
  },
  {
   "cell_type": "markdown",
   "metadata": {},
   "source": [
    "A basic `Table` class that checks if the `robot` or a tuple of (x, y) is inside the Table. This is done by creating a `__contains__` method."
   ]
  },
  {
   "cell_type": "code",
   "execution_count": null,
   "metadata": {},
   "outputs": [],
   "source": [
    "#export\n",
    "class Table:\n",
    "    def __init__(self, h=5, w=5):\n",
    "        self.h = h\n",
    "        self.w = w\n",
    "    \n",
    "    def __contains__(self, o):\n",
    "        if isinstance(o, ToyRobot):\n",
    "            return min(self.h, self.w) >= max(o.x, o.y)\n",
    "        else:\n",
    "            return min(self.h, self.w) >= max(o[0], o[1])"
   ]
  },
  {
   "cell_type": "code",
   "execution_count": null,
   "metadata": {},
   "outputs": [],
   "source": [
    "#example use by passing tuple\n",
    "assert (1,2) in Table(5,5)\n",
    "assert (5,5) in Table(5,5)\n",
    "assert (6,5) not in Table(5,5)"
   ]
  },
  {
   "cell_type": "markdown",
   "metadata": {},
   "source": [
    "## Tests"
   ]
  },
  {
   "cell_type": "markdown",
   "metadata": {},
   "source": [
    "Some basic tests to make sure that the `Robot` and `Table` work together."
   ]
  },
  {
   "cell_type": "code",
   "execution_count": null,
   "metadata": {},
   "outputs": [],
   "source": [
    "# instantiate robot on (2,2) facing `North`\n",
    "r1 = ToyRobot(2,2, 0)\n",
    "assert isinstance(r1.f, Direction)\n",
    "assert r1.x == 2\n",
    "assert r1.y == 2\n",
    "assert r1.f.get_idx() == 0\n",
    "\n",
    "# take one step forward in the current direction (North)\n",
    "r1.move()\n",
    "assert r1.x == 2\n",
    "assert r1.y == 3\n",
    "\n",
    "# change direction to right (East) and take one step forward\n",
    "r1.right()\n",
    "r1.move()\n",
    "assert r1.x == 3\n",
    "assert r1.y == 3"
   ]
  },
  {
   "cell_type": "code",
   "execution_count": null,
   "metadata": {},
   "outputs": [],
   "source": [
    "# create a new robot by using the `from_placement` method \n",
    "r2 = ToyRobot.from_placement(1, 1, 0)\n",
    "assert isinstance(r2, ToyRobot)\n",
    "assert r2.f.get_idx()==0\n",
    "assert r2.x == 1\n",
    "assert r2.y == 1"
   ]
  },
  {
   "cell_type": "code",
   "execution_count": null,
   "metadata": {},
   "outputs": [],
   "source": [
    "# simple checks to make sure that robot is either inside or outside the table\n",
    "assert ToyRobot.from_placement(1, 1, 0) in Table(5, 5)\n",
    "assert ToyRobot.from_placement(2, 3, 0) in Table(5, 5)\n",
    "assert ToyRobot.from_placement(5, 5, 0) in Table(5, 5)\n",
    "assert ToyRobot.from_placement(5, 6, 0) is None\n",
    "assert ToyRobot.from_placement(6, 5, 0) is None"
   ]
  },
  {
   "cell_type": "code",
   "execution_count": null,
   "metadata": {},
   "outputs": [
    {
     "name": "stdout",
     "output_type": "stream",
     "text": [
      "Converted 01_direction.ipynb.\n",
      "Converted 02_robot.ipynb.\n",
      "Converted 03_main.ipynb.\n",
      "Converted 04_tests.ipynb.\n",
      "Converted index.ipynb.\n"
     ]
    }
   ],
   "source": [
    "from nbdev.export import * \n",
    "notebook2script()"
   ]
  }
 ],
 "metadata": {
  "kernelspec": {
   "display_name": "Python 3",
   "language": "python",
   "name": "python3"
  }
 },
 "nbformat": 4,
 "nbformat_minor": 2
}
