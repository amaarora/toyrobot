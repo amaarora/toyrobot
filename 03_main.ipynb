{
 "cells": [
  {
   "cell_type": "code",
   "execution_count": 1,
   "metadata": {},
   "outputs": [],
   "source": [
    "# default_exp main"
   ]
  },
  {
   "cell_type": "markdown",
   "metadata": {},
   "source": [
    "# Main\n",
    "> Main function to make things work in cmd line"
   ]
  },
  {
   "cell_type": "code",
   "execution_count": 2,
   "metadata": {},
   "outputs": [],
   "source": [
    "#hide\n",
    "from nbdev.showdoc import *"
   ]
  },
  {
   "cell_type": "code",
   "execution_count": 3,
   "metadata": {},
   "outputs": [],
   "source": [
    "#export\n",
    "from toyrobot.direction import Direction\n",
    "from toyrobot.robot import *\n",
    "from argparse import ArgumentParser\n",
    "import re"
   ]
  },
  {
   "cell_type": "code",
   "execution_count": 4,
   "metadata": {},
   "outputs": [],
   "source": [
    "#export\n",
    "def get_direction_idx(direction, directions=['NORTH', 'SOUTH', 'EAST', 'WEST']):\n",
    "    return directions.index(direction.upper())"
   ]
  },
  {
   "cell_type": "code",
   "execution_count": 5,
   "metadata": {},
   "outputs": [],
   "source": [
    "#export\n",
    "def run():\n",
    "    parser = ArgumentParser()\n",
    "    parser.add_argument(\n",
    "        '--cmd_file_path', \n",
    "        required=True, \n",
    "        help=\"absolute path to the file containing commands for the ToyRobot.\"\n",
    "    )    \n",
    "    args = parser.parse_args()\n",
    "    robot = None\n",
    "    f = open('./example1.txt', 'r')\n",
    "        \n",
    "    # make robot dance\n",
    "    for line in f.readlines():\n",
    "        args = re.findall(r'[^,\\s]+', line)\n",
    "        if args[0]=='PLACE' and robot is None:\n",
    "            robot = ToyRobot.from_placement(int(args[1]), int(args[2]), get_direction_idx(args[3]))\n",
    "        elif robot is not None and args[0] != 'PLACE':\n",
    "            cmd = f\"robot.{args[0].lower()}()\"\n",
    "            exec(cmd)\n",
    "                \n",
    "    robot.report()"
   ]
  },
  {
   "cell_type": "code",
   "execution_count": 7,
   "metadata": {},
   "outputs": [
    {
     "name": "stdout",
     "output_type": "stream",
     "text": [
      "Converted 00_core.ipynb.\n",
      "Converted 01_direction.ipynb.\n",
      "Converted 02_robot.ipynb.\n",
      "Converted 03_main.ipynb.\n",
      "Converted index.ipynb.\n"
     ]
    }
   ],
   "source": [
    "from nbdev.export import * \n",
    "notebook2script()"
   ]
  },
  {
   "cell_type": "code",
   "execution_count": null,
   "metadata": {},
   "outputs": [],
   "source": []
  }
 ],
 "metadata": {
  "kernelspec": {
   "display_name": "Python 3",
   "language": "python",
   "name": "python3"
  },
  "language_info": {
   "codemirror_mode": {
    "name": "ipython",
    "version": 3
   },
   "file_extension": ".py",
   "mimetype": "text/x-python",
   "name": "python",
   "nbconvert_exporter": "python",
   "pygments_lexer": "ipython3",
   "version": "3.6.9"
  },
  "toc": {
   "base_numbering": 1,
   "nav_menu": {},
   "number_sections": true,
   "sideBar": true,
   "skip_h1_title": false,
   "title_cell": "Table of Contents",
   "title_sidebar": "Contents",
   "toc_cell": false,
   "toc_position": {},
   "toc_section_display": true,
   "toc_window_display": false
  }
 },
 "nbformat": 4,
 "nbformat_minor": 2
}
