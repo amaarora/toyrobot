{
 "cells": [
  {
   "cell_type": "code",
   "execution_count": 1,
   "metadata": {},
   "outputs": [],
   "source": [
    "# default_exp direction"
   ]
  },
  {
   "cell_type": "markdown",
   "metadata": {},
   "source": [
    "# Toy Robot \n",
    "\n",
    "> A basic structure based on the problem statement."
   ]
  },
  {
   "cell_type": "code",
   "execution_count": 2,
   "metadata": {},
   "outputs": [],
   "source": [
    "#hide\n",
    "from nbdev.showdoc import *"
   ]
  },
  {
   "cell_type": "code",
   "execution_count": 3,
   "metadata": {},
   "outputs": [],
   "source": [
    "#export\n",
    "class Direction: \n",
    "    def __init__(self, directions=['NORTH', 'EAST', 'SOUTH', 'WEST'], idx=None):\n",
    "        if idx is None: \n",
    "            idx = np.random.choice(np.arange(4))\n",
    "        self.directions = directions\n",
    "        self.max_idx = len(directions)-1\n",
    "        self.f = self.directions[idx]\n",
    "    \n",
    "    def get_curr_dir(self):\n",
    "        return self.directions.index(self.f)\n",
    "        \n",
    "    def LEFT(self):\n",
    "        idx = self.get_curr_dir()\n",
    "        new_idx = idx-1 if idx>=1 else self.max_idx \n",
    "        return self.__class__(idx=new_idx)\n",
    "    \n",
    "    def RIGHT(self):\n",
    "        idx = self.get_curr_dir()\n",
    "        new_idx = idx+1 if idx<=2 else 0\n",
    "        return self.__class__(idx=new_idx)\n",
    "    \n",
    "    def __repr__(self):\n",
    "        return self.f"
   ]
  },
  {
   "cell_type": "code",
   "execution_count": 4,
   "metadata": {},
   "outputs": [],
   "source": [
    "#hide \n",
    "d = Direction(idx=0)\n",
    "assert d.get_curr_dir()==0\n",
    "assert d.LEFT().get_curr_dir()==3\n",
    "assert d.LEFT().LEFT().get_curr_dir()==2\n",
    "assert d.LEFT().RIGHT().get_curr_dir()==0\n",
    "assert repr(d.f) == \"'NORTH'\""
   ]
  },
  {
   "cell_type": "code",
   "execution_count": 5,
   "metadata": {
    "scrolled": true
   },
   "outputs": [
    {
     "name": "stdout",
     "output_type": "stream",
     "text": [
      "Converted 00_core.ipynb.\n",
      "Converted 01_direction.ipynb.\n",
      "Converted 02_robot.ipynb.\n",
      "Converted index.ipynb.\n"
     ]
    }
   ],
   "source": [
    "from nbdev.export import * \n",
    "notebook2script()"
   ]
  }
 ],
 "metadata": {
  "kernelspec": {
   "display_name": "Python 3",
   "language": "python",
   "name": "python3"
  },
  "language_info": {
   "codemirror_mode": {
    "name": "ipython",
    "version": 3
   },
   "file_extension": ".py",
   "mimetype": "text/x-python",
   "name": "python",
   "nbconvert_exporter": "python",
   "pygments_lexer": "ipython3",
   "version": "3.6.9"
  },
  "toc": {
   "base_numbering": 1,
   "nav_menu": {},
   "number_sections": true,
   "sideBar": true,
   "skip_h1_title": false,
   "title_cell": "Table of Contents",
   "title_sidebar": "Contents",
   "toc_cell": false,
   "toc_position": {},
   "toc_section_display": true,
   "toc_window_display": false
  }
 },
 "nbformat": 4,
 "nbformat_minor": 2
}
