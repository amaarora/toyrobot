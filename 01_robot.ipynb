{
 "cells": [
  {
   "cell_type": "code",
   "execution_count": 1,
   "metadata": {},
   "outputs": [],
   "source": [
    "# default_exp robot"
   ]
  },
  {
   "cell_type": "markdown",
   "metadata": {},
   "source": [
    "# Toy Robot \n",
    "\n",
    "> A basic structure based on the problem statement."
   ]
  },
  {
   "cell_type": "code",
   "execution_count": 2,
   "metadata": {},
   "outputs": [],
   "source": [
    "#hide\n",
    "from nbdev.showdoc import *\n",
    "import numpy as np\n",
    "from numpy import sin, cos, pi"
   ]
  },
  {
   "cell_type": "code",
   "execution_count": 3,
   "metadata": {},
   "outputs": [],
   "source": [
    "#export\n",
    "class Direction: \n",
    "    def __init__(self, directions=['NORTH', 'EAST', 'SOUTH', 'WEST'], idx=None):\n",
    "        if idx is None: \n",
    "            idx = np.random.choice(np.arange(4))\n",
    "        self.directions = directions\n",
    "        self.max_idx = len(directions)-1\n",
    "        self.f = self.directions[idx]\n",
    "    \n",
    "    def get_curr_dir(self):\n",
    "        return self.directions.index(self.f)\n",
    "        \n",
    "    def LEFT(self):\n",
    "        idx = self.get_curr_dir()\n",
    "        new_idx = idx-1 if idx>=1 else self.max_idx \n",
    "        return self.__class__(idx=new_idx)\n",
    "    \n",
    "    def RIGHT(self):\n",
    "        idx = self.get_curr_dir()\n",
    "        new_idx = idx+1 if idx<=2 else 0\n",
    "        return self.__class__(idx=new_idx)\n",
    "    \n",
    "    def __repr__(self):\n",
    "        return self.f"
   ]
  },
  {
   "cell_type": "code",
   "execution_count": 4,
   "metadata": {},
   "outputs": [],
   "source": [
    "#hide \n",
    "d = Direction(idx=0)\n",
    "assert d.get_curr_dir()==0\n",
    "assert d.LEFT().get_curr_dir()==3\n",
    "assert d.LEFT().LEFT().get_curr_dir()==2\n",
    "assert d.LEFT().RIGHT().get_curr_dir()==0\n",
    "assert repr(d.f) == \"'NORTH'\""
   ]
  },
  {
   "cell_type": "code",
   "execution_count": 5,
   "metadata": {},
   "outputs": [],
   "source": [
    "#export\n",
    "class ToyRobot:\n",
    "    def __init__(self, x, y, idx=None):\n",
    "        self.f = Direction(idx=idx)\n",
    "        self.x = x\n",
    "        self.y = y\n",
    "        self.step = 1\n",
    "    \n",
    "    def __repr__(self):\n",
    "        return f\"{self.__class__.__name__}, currently at ({self.x}, {self.y}) and facing {self.f}!\" \n",
    "    \n",
    "    def report(self): print(self)\n",
    "    \n",
    "    def LEFT(self): \n",
    "        self.f = self.f.LEFT()\n",
    "        return f\"{self.__class__.__name__} facing new direction: {self.f}\"\n",
    "        \n",
    "    def RIGHT(self):\n",
    "        self.f = self.f.RIGHT()\n",
    "        return f\"{self.__class__.__name__} facing new direction: {self.f}\"\n",
    "    \n",
    "    def move(self):\n",
    "        idx = self.f.get_curr_dir()\n",
    "        self.x = self.x + (sin(idx*(pi/2)).astype(int))\n",
    "        self.y = self.y + (cos(idx*(pi/2)).astype(int))\n",
    "        return f\"New position on table: {self.x, self.y}\""
   ]
  },
  {
   "cell_type": "code",
   "execution_count": 6,
   "metadata": {
    "scrolled": true
   },
   "outputs": [],
   "source": [
    "r1 = ToyRobot(2,2)\n",
    "assert isinstance(r1.f, Direction)"
   ]
  },
  {
   "cell_type": "code",
   "execution_count": 7,
   "metadata": {},
   "outputs": [
    {
     "data": {
      "text/plain": [
       "ToyRobot, currently at (2, 2) and facing WEST!"
      ]
     },
     "execution_count": 7,
     "metadata": {},
     "output_type": "execute_result"
    }
   ],
   "source": [
    "r1"
   ]
  },
  {
   "cell_type": "code",
   "execution_count": 8,
   "metadata": {},
   "outputs": [
    {
     "data": {
      "text/plain": [
       "'New position on table: (1, 2)'"
      ]
     },
     "execution_count": 8,
     "metadata": {},
     "output_type": "execute_result"
    }
   ],
   "source": [
    "r1.move()"
   ]
  },
  {
   "cell_type": "code",
   "execution_count": 9,
   "metadata": {},
   "outputs": [
    {
     "data": {
      "text/plain": [
       "'New position on table: (0, 2)'"
      ]
     },
     "execution_count": 9,
     "metadata": {},
     "output_type": "execute_result"
    }
   ],
   "source": [
    "r1.move()"
   ]
  },
  {
   "cell_type": "code",
   "execution_count": 10,
   "metadata": {},
   "outputs": [
    {
     "data": {
      "text/plain": [
       "'ToyRobot facing new direction: NORTH'"
      ]
     },
     "execution_count": 10,
     "metadata": {},
     "output_type": "execute_result"
    }
   ],
   "source": [
    "r1.RIGHT()"
   ]
  },
  {
   "cell_type": "code",
   "execution_count": 11,
   "metadata": {},
   "outputs": [
    {
     "data": {
      "text/plain": [
       "'New position on table: (0, 3)'"
      ]
     },
     "execution_count": 11,
     "metadata": {},
     "output_type": "execute_result"
    }
   ],
   "source": [
    "r1.move()"
   ]
  },
  {
   "cell_type": "code",
   "execution_count": 12,
   "metadata": {},
   "outputs": [
    {
     "name": "stdout",
     "output_type": "stream",
     "text": [
      "Converted 00_core.ipynb.\n",
      "Converted 01_robot.ipynb.\n",
      "Converted index.ipynb.\n"
     ]
    }
   ],
   "source": [
    "from nbdev.export import * \n",
    "notebook2script()"
   ]
  }
 ],
 "metadata": {
  "kernelspec": {
   "display_name": "Python 3",
   "language": "python",
   "name": "python3"
  },
  "language_info": {
   "codemirror_mode": {
    "name": "ipython",
    "version": 3
   },
   "file_extension": ".py",
   "mimetype": "text/x-python",
   "name": "python",
   "nbconvert_exporter": "python",
   "pygments_lexer": "ipython3",
   "version": "3.6.9"
  },
  "toc": {
   "base_numbering": 1,
   "nav_menu": {},
   "number_sections": true,
   "sideBar": true,
   "skip_h1_title": false,
   "title_cell": "Table of Contents",
   "title_sidebar": "Contents",
   "toc_cell": false,
   "toc_position": {},
   "toc_section_display": true,
   "toc_window_display": false
  }
 },
 "nbformat": 4,
 "nbformat_minor": 2
}
