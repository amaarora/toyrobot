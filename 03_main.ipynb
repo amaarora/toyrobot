{
 "cells": [
  {
   "cell_type": "code",
   "execution_count": null,
   "metadata": {},
   "outputs": [],
   "source": [
    "# default_exp main"
   ]
  },
  {
   "cell_type": "markdown",
   "metadata": {},
   "source": [
    "# Main\n",
    "> Main runner function to make things work in cmd line"
   ]
  },
  {
   "cell_type": "code",
   "execution_count": null,
   "metadata": {},
   "outputs": [],
   "source": [
    "#hide\n",
    "from nbdev.showdoc import *"
   ]
  },
  {
   "cell_type": "code",
   "execution_count": null,
   "metadata": {},
   "outputs": [],
   "source": [
    "#export\n",
    "from toyrobot.direction import Direction\n",
    "from toyrobot.robot import *\n",
    "from argparse import ArgumentParser\n",
    "import re"
   ]
  },
  {
   "cell_type": "code",
   "execution_count": null,
   "metadata": {},
   "outputs": [],
   "source": [
    "#export\n",
    "def get_direction_idx(direction, directions=['NORTH', 'SOUTH', 'EAST', 'WEST']):\n",
    "    return directions.index(direction.upper())"
   ]
  },
  {
   "cell_type": "code",
   "execution_count": null,
   "metadata": {},
   "outputs": [],
   "source": [
    "#export\n",
    "def run():\n",
    "    parser = ArgumentParser()\n",
    "    parser.add_argument(\n",
    "        '--cmd_file_path', \n",
    "        required=True, \n",
    "        help=\"absolute path to the file containing commands for the ToyRobot.\"\n",
    "    )    \n",
    "    args = parser.parse_args()\n",
    "    robot = None\n",
    "    f = open('./example1.txt', 'r')\n",
    "        \n",
    "    # make robot dance\n",
    "    for line in f.readlines():\n",
    "        args = re.findall(r'[^,\\s]+', line)\n",
    "        if args[0]=='PLACE' and robot is None:\n",
    "            robot = ToyRobot.from_placement(int(args[1]), int(args[2]), get_direction_idx(args[3]))\n",
    "        elif robot is not None and args[0] != 'PLACE':\n",
    "            cmd = f\"robot.{args[0].lower()}()\"\n",
    "            exec(cmd)"
   ]
  },
  {
   "cell_type": "code",
   "execution_count": null,
   "metadata": {},
   "outputs": [
    {
     "name": "stdout",
     "output_type": "stream",
     "text": [
      "Converted 01_direction.ipynb.\n",
      "Converted 02_robot.ipynb.\n",
      "Converted 03_main.ipynb.\n",
      "Converted index.ipynb.\n"
     ]
    }
   ],
   "source": [
    "from nbdev.export import * \n",
    "notebook2script()"
   ]
  }
 ],
 "metadata": {
  "kernelspec": {
   "display_name": "Python 3",
   "language": "python",
   "name": "python3"
  }
 },
 "nbformat": 4,
 "nbformat_minor": 2
}
