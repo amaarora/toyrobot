{
 "cells": [
  {
   "cell_type": "code",
   "execution_count": null,
   "metadata": {},
   "outputs": [],
   "source": [
    "# default_exp robot"
   ]
  },
  {
   "cell_type": "markdown",
   "metadata": {},
   "source": [
    "# Robot"
   ]
  },
  {
   "cell_type": "code",
   "execution_count": null,
   "metadata": {},
   "outputs": [],
   "source": [
    "#hide\n",
    "from nbdev.showdoc import *"
   ]
  },
  {
   "cell_type": "code",
   "execution_count": null,
   "metadata": {},
   "outputs": [],
   "source": [
    "#export\n",
    "from toyrobot.direction import Direction\n",
    "import numpy as np\n",
    "from numpy import sin, cos, pi"
   ]
  },
  {
   "cell_type": "code",
   "execution_count": null,
   "metadata": {},
   "outputs": [],
   "source": [
    "#export\n",
    "class ToyRobot:\n",
    "    def __init__(self, x, y, idx=None, th=5, tw=5):\n",
    "        self.f = Direction(idx=idx)\n",
    "        self.x = x\n",
    "        self.y = y\n",
    "        self.table = Table(th, tw)\n",
    "    \n",
    "    def __repr__(self):\n",
    "        return f\"{self.__class__.__name__}, located at ({self.x}, {self.y}) and facing {self.f}!\" \n",
    "    \n",
    "    def report(self): print(self)\n",
    "    \n",
    "    def left(self): \n",
    "        self.f = self.f.left()\n",
    "        \n",
    "    def right(self):\n",
    "        self.f = self.f.right()\n",
    "    \n",
    "    def move(self):\n",
    "        idx = self.f.get_idx()\n",
    "        new_x = self.x + (sin(idx*(pi/2)).astype(int))\n",
    "        new_y = self.y + (cos(idx*(pi/2)).astype(int))\n",
    "        if (new_x, new_y) in self.table:\n",
    "            self.x = new_x\n",
    "            self.y = new_y\n",
    "    \n",
    "    @classmethod\n",
    "    def from_placement(cls, x, y, idx):\n",
    "        return cls(x, y, idx=idx)"
   ]
  },
  {
   "cell_type": "code",
   "execution_count": null,
   "metadata": {},
   "outputs": [],
   "source": [
    "#export\n",
    "class Table:\n",
    "    def __init__(self, h=5, w=5):\n",
    "        self.h = h\n",
    "        self.w = w\n",
    "    \n",
    "    def __contains__(self, o):\n",
    "        if isinstance(o, ToyRobot):\n",
    "            return min(self.h, self.w) >= max(o.x, o.y)\n",
    "        else:\n",
    "            return min(self.h, self.w) >= max(o[0], o[1])"
   ]
  },
  {
   "cell_type": "code",
   "execution_count": null,
   "metadata": {},
   "outputs": [],
   "source": [
    "#hide\n",
    "# instantiate robot on (2,2) facing `North`\n",
    "r1 = ToyRobot(2,2, 0)\n",
    "assert isinstance(r1.f, Direction)\n",
    "assert r1.x == 2\n",
    "assert r1.y == 2\n",
    "assert r1.f.get_idx() == 0\n",
    "\n",
    "r1.move()\n",
    "assert r1.x == 2\n",
    "assert r1.y == 3\n",
    "\n",
    "r1.right()\n",
    "r1.move()\n",
    "assert r1.x == 3\n",
    "assert r1.y == 3"
   ]
  },
  {
   "cell_type": "code",
   "execution_count": null,
   "metadata": {},
   "outputs": [],
   "source": [
    "#hide\n",
    "r2 = ToyRobot.from_placement(1, 1, 0)\n",
    "assert isinstance(r2, ToyRobot)\n",
    "assert r2.f.get_idx()==0\n",
    "assert r2.x == 1\n",
    "assert r2.y == 1"
   ]
  },
  {
   "cell_type": "code",
   "execution_count": null,
   "metadata": {},
   "outputs": [],
   "source": [
    "#hide \n",
    "assert ToyRobot.from_placement(1, 1, 0) in Table(5, 5)\n",
    "assert ToyRobot.from_placement(2, 3, 0) in Table(5, 5)\n",
    "assert ToyRobot.from_placement(5, 5, 0) in Table(5, 5)\n",
    "assert not ToyRobot.from_placement(5, 6, 0) in Table(5, 5)\n",
    "assert not ToyRobot.from_placement(6, 5, 0) in Table(5, 5)"
   ]
  },
  {
   "cell_type": "code",
   "execution_count": null,
   "metadata": {},
   "outputs": [
    {
     "name": "stdout",
     "output_type": "stream",
     "text": [
      "Converted 01_direction.ipynb.\n",
      "Converted 02_robot.ipynb.\n",
      "Converted 03_main.ipynb.\n",
      "Converted index.ipynb.\n"
     ]
    }
   ],
   "source": [
    "from nbdev.export import * \n",
    "notebook2script()"
   ]
  }
 ],
 "metadata": {
  "kernelspec": {
   "display_name": "Python 3",
   "language": "python",
   "name": "python3"
  }
 },
 "nbformat": 4,
 "nbformat_minor": 2
}
