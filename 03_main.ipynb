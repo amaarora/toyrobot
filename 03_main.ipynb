{
 "cells": [
  {
   "cell_type": "code",
   "execution_count": null,
   "metadata": {},
   "outputs": [],
   "source": [
    "# default_exp main"
   ]
  },
  {
   "cell_type": "markdown",
   "metadata": {},
   "source": [
    "# Runner\n",
    "> Main runner function to make things work in cmd line"
   ]
  },
  {
   "cell_type": "code",
   "execution_count": null,
   "metadata": {},
   "outputs": [],
   "source": [
    "#hide\n",
    "from nbdev.showdoc import *"
   ]
  },
  {
   "cell_type": "code",
   "execution_count": null,
   "metadata": {},
   "outputs": [],
   "source": [
    "#export\n",
    "from toyrobot.direction import Direction\n",
    "from toyrobot.robot import *\n",
    "from argparse import ArgumentParser\n",
    "import re"
   ]
  },
  {
   "cell_type": "code",
   "execution_count": null,
   "metadata": {},
   "outputs": [],
   "source": [
    "#export\n",
    "def get_direction_idx(direction, directions=['NORTH', 'EAST', 'SOUTH', 'WEST']):\n",
    "    \"returns the index of direction passed as input from `directions`.\"\n",
    "    return directions.index(direction.upper())"
   ]
  },
  {
   "cell_type": "code",
   "execution_count": null,
   "metadata": {},
   "outputs": [],
   "source": [
    "#export\n",
    "def parse_args():\n",
    "    \"argument parser to accept `path` as CLI arg.\"\n",
    "    parser = ArgumentParser()\n",
    "    parser.add_argument(\n",
    "        '-path',\n",
    "        '--cmd_file_path', \n",
    "        required=True, \n",
    "        help=\"absolute path to the `.txt` file containing commands for the ToyRobot.\"\n",
    "    )    \n",
    "    args = parser.parse_args()\n",
    "    return args"
   ]
  },
  {
   "cell_type": "code",
   "execution_count": null,
   "metadata": {},
   "outputs": [],
   "source": [
    "#export\n",
    "class Runner:\n",
    "    \"\"\"\n",
    "    This class takes care of the constraints for `ToyRobot` and also calls the required commands\n",
    "    for the `ToyRobot` to do the actual moving, change direction and report. \n",
    "    \n",
    "    It can be considered to be a regular function with a state `self.robot`. \n",
    "    \n",
    "    It can be called just as a function passing in a list of args or nothing at all. \n",
    "    If no args are passed, then the [ArgumentParser](https://docs.python.org/3/library/argparse.html#argparse.ArgumentParser) \n",
    "    is run to get arguments from the command line. Otherwise, for testing some args can \n",
    "    also be passed.\n",
    "    \n",
    "    This function reads the text file line by line, removes comma and whitespace and splits the \n",
    "    string command to get actual arguments. Then based on these arguments the actual commands on \n",
    "    `ToyRobot` are called. \n",
    "    \n",
    "    If 'PLACE' command is seen, then a new robot is created and assigned to self.robot if \n",
    "    it is a valid 'PLACE' command. \n",
    "    \n",
    "    A valid command is one that places the `ToyRobot` inside the `Table`. \n",
    "    \n",
    "    Otherwise, if the command is not valid then no `ToyRobot` is instantiated and all other commands \n",
    "    are ignored until a valid 'PLACE' command is seen. \n",
    "    \n",
    "    If there are two 'PLACE' commands inside the .txt file, then \n",
    "    - both will run if they are both valid. \n",
    "    - only valid command will run if one is valid.\n",
    "    - no robot will be created if both are invalid.\n",
    "    \"\"\" \n",
    "    \n",
    "    def __init__(self):\n",
    "        self.robot = None\n",
    "        \n",
    "    def __call__(self, args=None):\n",
    "        \"main function to run the package from command line.\"\n",
    "        if not args:\n",
    "            args = parse_args()\n",
    "        # open text file from path passed as arg\n",
    "        f = open(args.cmd_file_path, 'r')\n",
    "        # read line by line and execute commands based on constraints in `problem.md`\n",
    "        for line in f.readlines():\n",
    "            # remove any extra whitespace and commas to get command \n",
    "            args = re.findall(r'[^,\\s]+', line)\n",
    "            if args[0]=='PLACE':\n",
    "                robot = ToyRobot.from_placement(int(args[1]), int(args[2]), get_direction_idx(args[3]))\n",
    "                if robot: \n",
    "                    self.robot = robot\n",
    "            elif self.robot is not None and args[0] != 'PLACE':\n",
    "                cmd = f\"self.robot.{args[0].lower()}()\"\n",
    "                exec(cmd)"
   ]
  },
  {
   "cell_type": "code",
   "execution_count": null,
   "metadata": {},
   "outputs": [],
   "source": [
    "#export\n",
    "run = Runner()"
   ]
  },
  {
   "cell_type": "code",
   "execution_count": null,
   "metadata": {},
   "outputs": [
    {
     "name": "stdout",
     "output_type": "stream",
     "text": [
      "Converted 01_direction.ipynb.\n",
      "Converted 02_robot.ipynb.\n",
      "Converted 03_main.ipynb.\n",
      "Converted 04_tests.ipynb.\n",
      "Converted index.ipynb.\n"
     ]
    }
   ],
   "source": [
    "from nbdev.export import * \n",
    "notebook2script()"
   ]
  }
 ],
 "metadata": {
  "kernelspec": {
   "display_name": "Python 3",
   "language": "python",
   "name": "python3"
  }
 },
 "nbformat": 4,
 "nbformat_minor": 2
}
