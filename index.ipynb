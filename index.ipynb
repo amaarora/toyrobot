{
 "cells": [
  {
   "cell_type": "code",
   "execution_count": null,
   "metadata": {},
   "outputs": [],
   "source": [
    "#hide\n",
    "from toyrobot.main import *"
   ]
  },
  {
   "cell_type": "markdown",
   "metadata": {},
   "source": [
    "# Toy Robot\n",
    "\n",
    "> A toy robot, toy application where the toy robot doesn't fall off the toy table"
   ]
  },
  {
   "cell_type": "markdown",
   "metadata": {},
   "source": [
    "## Install"
   ]
  },
  {
   "cell_type": "markdown",
   "metadata": {},
   "source": [
    "`pip install -e .`"
   ]
  },
  {
   "cell_type": "markdown",
   "metadata": {},
   "source": [
    "## Documentation"
   ]
  },
  {
   "cell_type": "markdown",
   "metadata": {},
   "source": [
    "For documentation, refer [here](https://amaarora.github.io/toyrobot/)."
   ]
  },
  {
   "cell_type": "markdown",
   "metadata": {},
   "source": [
    "## Run "
   ]
  },
  {
   "cell_type": "markdown",
   "metadata": {},
   "source": [
    "To run the project in command line, \n",
    "```python\n",
    "python main.py --cmd_file_path <path_to_txt_file>\n",
    "```"
   ]
  },
  {
   "cell_type": "markdown",
   "metadata": {},
   "source": [
    "As an example:\n",
    "\n",
    "`python main.py --cmd_file_path ./example1.txt`\n",
    "\n",
    "```\n",
    "ToyRobot facing new direction: WEST\n",
    "ToyRobot facing new direction: NORTH\n",
    "New position on table: (0, 1)\n",
    "ToyRobot, currently at (0, 1) and facing NORTH!\n",
    "```"
   ]
  }
 ],
 "metadata": {
  "kernelspec": {
   "display_name": "Python 3",
   "language": "python",
   "name": "python3"
  }
 },
 "nbformat": 4,
 "nbformat_minor": 2
}
