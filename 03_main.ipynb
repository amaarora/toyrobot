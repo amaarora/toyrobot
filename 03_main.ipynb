{
 "cells": [
  {
   "cell_type": "code",
   "execution_count": null,
   "metadata": {},
   "outputs": [],
   "source": [
    "# default_exp main"
   ]
  },
  {
   "cell_type": "markdown",
   "metadata": {},
   "source": [
    "# `ToyRobot` Runner\n",
    "> Main runner function to make things work in cmd line"
   ]
  },
  {
   "cell_type": "code",
   "execution_count": null,
   "metadata": {},
   "outputs": [],
   "source": [
    "#hide\n",
    "from nbdev.showdoc import *"
   ]
  },
  {
   "cell_type": "code",
   "execution_count": null,
   "metadata": {},
   "outputs": [],
   "source": [
    "#export\n",
    "from toyrobot.direction import Direction\n",
    "from toyrobot.robot import *\n",
    "from argparse import ArgumentParser\n",
    "import re"
   ]
  },
  {
   "cell_type": "code",
   "execution_count": null,
   "metadata": {},
   "outputs": [],
   "source": [
    "#export\n",
    "def get_direction_idx(direction, directions=['NORTH', 'EAST', 'SOUTH', 'WEST']):\n",
    "    \"returns the index of direction passed as input from `directions`.\"\n",
    "    return directions.index(direction.upper())"
   ]
  },
  {
   "cell_type": "code",
   "execution_count": null,
   "metadata": {},
   "outputs": [],
   "source": [
    "#export\n",
    "def run():\n",
    "    \"main function to run the package from command line.\"\n",
    "    \n",
    "    parser = ArgumentParser()\n",
    "    parser.add_argument(\n",
    "        '-path',\n",
    "        '--cmd_file_path', \n",
    "        required=True, \n",
    "        help=\"absolute path to the `.txt` file containing commands for the ToyRobot.\"\n",
    "    )    \n",
    "    args = parser.parse_args()\n",
    "    robot = None\n",
    "    \n",
    "    # open text file from path passed as arg\n",
    "    f = open(args.cmd_file_path, 'r')\n",
    "        \n",
    "    # read line by line and execute commands based on constraints in `problem.md`\n",
    "    for line in f.readlines():\n",
    "        \n",
    "        # remove any extra whitespace and commas to get command \n",
    "        args = re.findall(r'[^,\\s]+', line)\n",
    "        \n",
    "        if args[0]=='PLACE' and robot is None:\n",
    "            robot = ToyRobot.from_placement(int(args[1]), int(args[2]), get_direction_idx(args[3]))\n",
    "        elif robot is not None and args[0] != 'PLACE':\n",
    "            cmd = f\"robot.{args[0].lower()}()\"\n",
    "            exec(cmd)"
   ]
  },
  {
   "cell_type": "code",
   "execution_count": null,
   "metadata": {},
   "outputs": [
    {
     "name": "stdout",
     "output_type": "stream",
     "text": [
      "Converted 01_direction.ipynb.\n",
      "Converted 02_robot.ipynb.\n",
      "Converted 03_main.ipynb.\n",
      "Converted index.ipynb.\n"
     ]
    }
   ],
   "source": [
    "from nbdev.export import * \n",
    "notebook2script()"
   ]
  }
 ],
 "metadata": {
  "kernelspec": {
   "display_name": "Python 3",
   "language": "python",
   "name": "python3"
  }
 },
 "nbformat": 4,
 "nbformat_minor": 2
}
