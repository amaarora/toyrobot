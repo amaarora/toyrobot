{
 "cells": [
  {
   "cell_type": "code",
   "execution_count": null,
   "metadata": {},
   "outputs": [],
   "source": [
    "# default_exp test"
   ]
  },
  {
   "cell_type": "markdown",
   "metadata": {},
   "source": [
    "# Test\n",
    "> Test script to test our application works correctly and to catch bugs. "
   ]
  },
  {
   "cell_type": "code",
   "execution_count": null,
   "metadata": {},
   "outputs": [],
   "source": [
    "#hide\n",
    "from nbdev.showdoc import *"
   ]
  },
  {
   "cell_type": "code",
   "execution_count": null,
   "metadata": {},
   "outputs": [],
   "source": [
    "#export\n",
    "from toyrobot.main import run \n",
    "from io import StringIO\n",
    "from contextlib import redirect_stdout"
   ]
  },
  {
   "cell_type": "code",
   "execution_count": null,
   "metadata": {},
   "outputs": [],
   "source": [
    "#export\n",
    "def test_eq(a, b):\n",
    "    \"test a equals b\"\n",
    "    assert a==b, f\"test failed, {a} not equal to {b}\""
   ]
  },
  {
   "cell_type": "code",
   "execution_count": null,
   "metadata": {},
   "outputs": [],
   "source": [
    "#export\n",
    "def test_stdout(f, args, exp):\n",
    "    \"test that `f` print out `exp` to stdout.\"\n",
    "    s = StringIO()\n",
    "    with redirect_stdout(s): \n",
    "        f(args)\n",
    "    test_eq(s.getvalue(), f'{exp}\\n' if len(exp)>0 else '')"
   ]
  },
  {
   "cell_type": "code",
   "execution_count": null,
   "metadata": {},
   "outputs": [],
   "source": [
    "class DummyArgs:\n",
    "    def __init__(self, path):\n",
    "        self.cmd_file_path = path"
   ]
  },
  {
   "cell_type": "markdown",
   "metadata": {},
   "source": [
    "Now, we are good to create test cases."
   ]
  },
  {
   "cell_type": "code",
   "execution_count": null,
   "metadata": {},
   "outputs": [],
   "source": [
    "args = DummyArgs('./examples/example1.txt')\n",
    "test_stdout(run, args, '4,5,WEST')\n",
    "\n",
    "args = DummyArgs('./examples/example2.txt')\n",
    "test_stdout(run, args, '0,1,NORTH')\n",
    "\n",
    "args = DummyArgs('./examples/example3.txt')\n",
    "test_stdout(run, args, '0,0,WEST')\n",
    "\n",
    "args = DummyArgs('./examples/example4.txt')\n",
    "test_stdout(run, args, '3,3,NORTH')\n",
    "\n",
    "args = DummyArgs('./examples/example5.txt')\n",
    "test_stdout(run, args, '5,5,EAST')\n",
    "\n",
    "args = DummyArgs('./examples/example6.txt')\n",
    "test_stdout(run, args, '2,3,NORTH')\n",
    "\n",
    "args = DummyArgs('./examples/example7.txt')\n",
    "test_stdout(run, args, '5,5,NORTH')\n",
    "\n",
    "args = DummyArgs('./examples/example8.txt')\n",
    "test_stdout(run, args, '1,1,EAST')"
   ]
  },
  {
   "cell_type": "code",
   "execution_count": null,
   "metadata": {},
   "outputs": [
    {
     "name": "stdout",
     "output_type": "stream",
     "text": [
      "Converted 01_direction.ipynb.\n",
      "Converted 02_robot.ipynb.\n",
      "Converted 03_main.ipynb.\n",
      "Converted 04_tests.ipynb.\n",
      "Converted index.ipynb.\n"
     ]
    }
   ],
   "source": [
    "from nbdev.export import * \n",
    "notebook2script()"
   ]
  }
 ],
 "metadata": {
  "kernelspec": {
   "display_name": "Python 3",
   "language": "python",
   "name": "python3"
  }
 },
 "nbformat": 4,
 "nbformat_minor": 2
}
