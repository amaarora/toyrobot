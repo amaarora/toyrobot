{
 "cells": [
  {
   "cell_type": "code",
   "execution_count": null,
   "metadata": {},
   "outputs": [],
   "source": [
    "# default_exp direction"
   ]
  },
  {
   "cell_type": "markdown",
   "metadata": {},
   "source": [
    "# Direction \n",
    "\n",
    "> A cyclic direction class to make rotations easier."
   ]
  },
  {
   "cell_type": "code",
   "execution_count": null,
   "metadata": {},
   "outputs": [],
   "source": [
    "#hide\n",
    "from nbdev.showdoc import *"
   ]
  },
  {
   "cell_type": "code",
   "execution_count": null,
   "metadata": {},
   "outputs": [],
   "source": [
    "#export\n",
    "class Direction: \n",
    "    \"\"\"\n",
    "    A cyclic direction class to make rotation easier.\n",
    "    \n",
    "    The directions are written in a specific order of North, East, South, West \n",
    "    instead of North, South, East, West to make rotation simpler. \n",
    "    \n",
    "    To rotate the direction clockwise, this class simply updates the `idx` to `idx+1`.\n",
    "    To rotate the direction clockwise, this class simply updates the `idx` to `idx-1`.\n",
    "    \n",
    "    Returns: \n",
    "        An instance of itself with the updated direction on calling either `left` or `right`.\n",
    "    \"\"\"\n",
    "    def __init__(self, directions=['NORTH', 'EAST', 'SOUTH', 'WEST'], idx=None):\n",
    "        # get random direction if not passed\n",
    "        if idx is None: \n",
    "            idx = np.random.choice(np.arange(4))\n",
    "        self.directions = directions\n",
    "        self.max_idx = len(directions)-1\n",
    "        self.f = self.directions[idx]\n",
    "    \n",
    "    def get_idx(self):\n",
    "        \"return the current direction index from `self.directions`.\"\n",
    "        return self.directions.index(self.f)\n",
    "        \n",
    "    def left(self):\n",
    "        \"first get current direction index, then subtract 1 to rotate left.\"\n",
    "        idx = self.get_idx()\n",
    "        new_idx = idx-1 if idx>=1 else self.max_idx \n",
    "        return self.__class__(idx=new_idx)\n",
    "    \n",
    "    def right(self):\n",
    "        \"first get current direction index, then add 1 to rotate right.\"\n",
    "        idx = self.get_idx()\n",
    "        new_idx = idx+1 if idx<=2 else 0\n",
    "        return self.__class__(idx=new_idx)\n",
    "    \n",
    "    def __repr__(self):\n",
    "        return self.f"
   ]
  },
  {
   "cell_type": "code",
   "execution_count": null,
   "metadata": {},
   "outputs": [],
   "source": [
    "d = Direction(idx=0)\n",
    "#currently facing north\n",
    "assert d.get_idx()==0\n",
    "assert repr(d.f) == \"'NORTH'\"\n",
    "#calling left changes idx to 3 and str representation to 'WEST'\n",
    "assert d.left().get_idx()==3\n",
    "assert repr(d.left().f) == \"'WEST'\"\n",
    "#can do multiple lefts or left and right combination\n",
    "assert d.left().left().get_idx()==2\n",
    "assert d.left().right().get_idx()==0"
   ]
  },
  {
   "cell_type": "code",
   "execution_count": null,
   "metadata": {},
   "outputs": [
    {
     "name": "stdout",
     "output_type": "stream",
     "text": [
      "Converted 01_direction.ipynb.\n",
      "Converted 02_robot.ipynb.\n",
      "Converted 03_main.ipynb.\n",
      "Converted 04_tests.ipynb.\n",
      "Converted index.ipynb.\n"
     ]
    }
   ],
   "source": [
    "from nbdev.export import * \n",
    "notebook2script()"
   ]
  }
 ],
 "metadata": {
  "kernelspec": {
   "display_name": "Python 3",
   "language": "python",
   "name": "python3"
  }
 },
 "nbformat": 4,
 "nbformat_minor": 2
}
